{
  "metadata": {
    "language_info": {
      "codemirror_mode": {
        "name": "python",
        "version": 3
      },
      "file_extension": ".py",
      "mimetype": "text/x-python",
      "name": "python",
      "nbconvert_exporter": "python",
      "pygments_lexer": "ipython3",
      "version": "3.8"
    },
    "kernelspec": {
      "name": "python",
      "display_name": "Python (Pyodide)",
      "language": "python"
    }
  },
  "nbformat_minor": 4,
  "nbformat": 4,
  "cells": [
    {
      "cell_type": "code",
      "source": "import pandas as pd\nimport numpy as np",
      "metadata": {
        "trusted": true
      },
      "execution_count": 1,
      "outputs": []
    },
    {
      "cell_type": "code",
      "source": "data = pd.read_csv('movies.csv', index_col=0, delimiter=',')\nmyfam = pd.DataFrame(data)",
      "metadata": {
        "trusted": true
      },
      "execution_count": 2,
      "outputs": []
    },
    {
      "cell_type": "code",
      "source": "data",
      "metadata": {
        "trusted": true
      },
      "execution_count": 3,
      "outputs": [
        {
          "execution_count": 3,
          "output_type": "execute_result",
          "data": {
            "text/plain": "        Bird Box  The Woman King  Top Gun: Maverick  Lou  Black Panther\nAthiou       5.0             5.0                4.5  4.5            5.0\nCoco         4.5             4.0                5.0  4.5            4.5\nFaty         4.0             4.5                5.0  4.5            5.0\nSaouma       5.0             4.0                5.0  5.0            5.0\nDedi         5.0             5.0                2.5  5.0            4.0",
            "text/html": "<div>\n<style scoped>\n    .dataframe tbody tr th:only-of-type {\n        vertical-align: middle;\n    }\n\n    .dataframe tbody tr th {\n        vertical-align: top;\n    }\n\n    .dataframe thead th {\n        text-align: right;\n    }\n</style>\n<table border=\"1\" class=\"dataframe\">\n  <thead>\n    <tr style=\"text-align: right;\">\n      <th></th>\n      <th>Bird Box</th>\n      <th>The Woman King</th>\n      <th>Top Gun: Maverick</th>\n      <th>Lou</th>\n      <th>Black Panther</th>\n    </tr>\n  </thead>\n  <tbody>\n    <tr>\n      <th>Athiou</th>\n      <td>5.0</td>\n      <td>5.0</td>\n      <td>4.5</td>\n      <td>4.5</td>\n      <td>5.0</td>\n    </tr>\n    <tr>\n      <th>Coco</th>\n      <td>4.5</td>\n      <td>4.0</td>\n      <td>5.0</td>\n      <td>4.5</td>\n      <td>4.5</td>\n    </tr>\n    <tr>\n      <th>Faty</th>\n      <td>4.0</td>\n      <td>4.5</td>\n      <td>5.0</td>\n      <td>4.5</td>\n      <td>5.0</td>\n    </tr>\n    <tr>\n      <th>Saouma</th>\n      <td>5.0</td>\n      <td>4.0</td>\n      <td>5.0</td>\n      <td>5.0</td>\n      <td>5.0</td>\n    </tr>\n    <tr>\n      <th>Dedi</th>\n      <td>5.0</td>\n      <td>5.0</td>\n      <td>2.5</td>\n      <td>5.0</td>\n      <td>4.0</td>\n    </tr>\n  </tbody>\n</table>\n</div>"
          },
          "metadata": {}
        }
      ]
    },
    {
      "cell_type": "markdown",
      "source": "Now that I have my data loaded in the dataframe I can go ahead get my averages. I will also want to put into a new row by using loc as you can see below. Lastly I replace the NaN's with blanks as shown in the example problem.",
      "metadata": {}
    },
    {
      "cell_type": "code",
      "source": "myfam.loc['mean'] = myfam.mean()\nmyfam.replace(np.nan, '', regex=True)",
      "metadata": {
        "trusted": true
      },
      "execution_count": 4,
      "outputs": [
        {
          "execution_count": 4,
          "output_type": "execute_result",
          "data": {
            "text/plain": "        Bird Box  The Woman King  Top Gun: Maverick  Lou  Black Panther\nAthiou       5.0             5.0                4.5  4.5            5.0\nCoco         4.5             4.0                5.0  4.5            4.5\nFaty         4.0             4.5                5.0  4.5            5.0\nSaouma       5.0             4.0                5.0  5.0            5.0\nDedi         5.0             5.0                2.5  5.0            4.0\nmean         4.7             4.5                4.4  4.7            4.7",
            "text/html": "<div>\n<style scoped>\n    .dataframe tbody tr th:only-of-type {\n        vertical-align: middle;\n    }\n\n    .dataframe tbody tr th {\n        vertical-align: top;\n    }\n\n    .dataframe thead th {\n        text-align: right;\n    }\n</style>\n<table border=\"1\" class=\"dataframe\">\n  <thead>\n    <tr style=\"text-align: right;\">\n      <th></th>\n      <th>Bird Box</th>\n      <th>The Woman King</th>\n      <th>Top Gun: Maverick</th>\n      <th>Lou</th>\n      <th>Black Panther</th>\n    </tr>\n  </thead>\n  <tbody>\n    <tr>\n      <th>Athiou</th>\n      <td>5.0</td>\n      <td>5.0</td>\n      <td>4.5</td>\n      <td>4.5</td>\n      <td>5.0</td>\n    </tr>\n    <tr>\n      <th>Coco</th>\n      <td>4.5</td>\n      <td>4.0</td>\n      <td>5.0</td>\n      <td>4.5</td>\n      <td>4.5</td>\n    </tr>\n    <tr>\n      <th>Faty</th>\n      <td>4.0</td>\n      <td>4.5</td>\n      <td>5.0</td>\n      <td>4.5</td>\n      <td>5.0</td>\n    </tr>\n    <tr>\n      <th>Saouma</th>\n      <td>5.0</td>\n      <td>4.0</td>\n      <td>5.0</td>\n      <td>5.0</td>\n      <td>5.0</td>\n    </tr>\n    <tr>\n      <th>Dedi</th>\n      <td>5.0</td>\n      <td>5.0</td>\n      <td>2.5</td>\n      <td>5.0</td>\n      <td>4.0</td>\n    </tr>\n    <tr>\n      <th>mean</th>\n      <td>4.7</td>\n      <td>4.5</td>\n      <td>4.4</td>\n      <td>4.7</td>\n      <td>4.7</td>\n    </tr>\n  </tbody>\n</table>\n</div>"
          },
          "metadata": {}
        }
      ]
    },
    {
      "cell_type": "markdown",
      "source": "Average rating for each user",
      "metadata": {}
    },
    {
      "cell_type": "code",
      "source": "myfam.mean()",
      "metadata": {
        "trusted": true
      },
      "execution_count": 5,
      "outputs": [
        {
          "execution_count": 5,
          "output_type": "execute_result",
          "data": {
            "text/plain": "Bird Box             4.7\nThe Woman King       4.5\nTop Gun: Maverick    4.4\nLou                  4.7\nBlack Panther        4.7\ndtype: float64"
          },
          "metadata": {}
        }
      ]
    },
    {
      "cell_type": "markdown",
      "source": "Here, I will find the average rating for each person.",
      "metadata": {}
    },
    {
      "cell_type": "code",
      "source": "myfam.mean(axis=1)",
      "metadata": {
        "trusted": true
      },
      "execution_count": 8,
      "outputs": [
        {
          "execution_count": 8,
          "output_type": "execute_result",
          "data": {
            "text/plain": "Athiou    4.8\nCoco      4.5\nFaty      4.6\nSaouma    4.8\nDedi      4.3\nmean      4.6\ndtype: float64"
          },
          "metadata": {}
        }
      ]
    },
    {
      "cell_type": "markdown",
      "source": "As you can see the mean is added as the last row fully calculated. Next step is to perform a normalization on the data.",
      "metadata": {}
    },
    {
      "cell_type": "code",
      "source": "myfam_norm = (myfam - myfam.min()) / (myfam.max() - myfam.min())\nmyfam_norm.replace(np.nan, '', regex=True)",
      "metadata": {
        "trusted": true
      },
      "execution_count": 9,
      "outputs": [
        {
          "execution_count": 9,
          "output_type": "execute_result",
          "data": {
            "text/plain": "        Bird Box  The Woman King  Top Gun: Maverick  Lou  Black Panther\nAthiou       1.0             1.0               0.80  0.0            1.0\nCoco         0.5             0.0               1.00  0.0            0.5\nFaty         0.0             0.5               1.00  0.0            1.0\nSaouma       1.0             0.0               1.00  1.0            1.0\nDedi         1.0             1.0               0.00  1.0            0.0\nmean         0.7             0.5               0.76  0.4            0.7",
            "text/html": "<div>\n<style scoped>\n    .dataframe tbody tr th:only-of-type {\n        vertical-align: middle;\n    }\n\n    .dataframe tbody tr th {\n        vertical-align: top;\n    }\n\n    .dataframe thead th {\n        text-align: right;\n    }\n</style>\n<table border=\"1\" class=\"dataframe\">\n  <thead>\n    <tr style=\"text-align: right;\">\n      <th></th>\n      <th>Bird Box</th>\n      <th>The Woman King</th>\n      <th>Top Gun: Maverick</th>\n      <th>Lou</th>\n      <th>Black Panther</th>\n    </tr>\n  </thead>\n  <tbody>\n    <tr>\n      <th>Athiou</th>\n      <td>1.0</td>\n      <td>1.0</td>\n      <td>0.80</td>\n      <td>0.0</td>\n      <td>1.0</td>\n    </tr>\n    <tr>\n      <th>Coco</th>\n      <td>0.5</td>\n      <td>0.0</td>\n      <td>1.00</td>\n      <td>0.0</td>\n      <td>0.5</td>\n    </tr>\n    <tr>\n      <th>Faty</th>\n      <td>0.0</td>\n      <td>0.5</td>\n      <td>1.00</td>\n      <td>0.0</td>\n      <td>1.0</td>\n    </tr>\n    <tr>\n      <th>Saouma</th>\n      <td>1.0</td>\n      <td>0.0</td>\n      <td>1.00</td>\n      <td>1.0</td>\n      <td>1.0</td>\n    </tr>\n    <tr>\n      <th>Dedi</th>\n      <td>1.0</td>\n      <td>1.0</td>\n      <td>0.00</td>\n      <td>1.0</td>\n      <td>0.0</td>\n    </tr>\n    <tr>\n      <th>mean</th>\n      <td>0.7</td>\n      <td>0.5</td>\n      <td>0.76</td>\n      <td>0.4</td>\n      <td>0.7</td>\n    </tr>\n  </tbody>\n</table>\n</div>"
          },
          "metadata": {}
        }
      ]
    },
    {
      "cell_type": "markdown",
      "source": "Or I can pivot transpose the information this way",
      "metadata": {}
    },
    {
      "cell_type": "code",
      "source": "ratings_norm = ((myfam - myfam.min()) / (myfam.max() - myfam.min())).transpose()\nratings_norm",
      "metadata": {
        "trusted": true
      },
      "execution_count": 10,
      "outputs": [
        {
          "execution_count": 10,
          "output_type": "execute_result",
          "data": {
            "text/plain": "                   Athiou  Coco  Faty  Saouma  Dedi  mean\nBird Box              1.0   0.5   0.0     1.0   1.0  0.70\nThe Woman King        1.0   0.0   0.5     0.0   1.0  0.50\nTop Gun: Maverick     0.8   1.0   1.0     1.0   0.0  0.76\nLou                   0.0   0.0   0.0     1.0   1.0  0.40\nBlack Panther         1.0   0.5   1.0     1.0   0.0  0.70",
            "text/html": "<div>\n<style scoped>\n    .dataframe tbody tr th:only-of-type {\n        vertical-align: middle;\n    }\n\n    .dataframe tbody tr th {\n        vertical-align: top;\n    }\n\n    .dataframe thead th {\n        text-align: right;\n    }\n</style>\n<table border=\"1\" class=\"dataframe\">\n  <thead>\n    <tr style=\"text-align: right;\">\n      <th></th>\n      <th>Athiou</th>\n      <th>Coco</th>\n      <th>Faty</th>\n      <th>Saouma</th>\n      <th>Dedi</th>\n      <th>mean</th>\n    </tr>\n  </thead>\n  <tbody>\n    <tr>\n      <th>Bird Box</th>\n      <td>1.0</td>\n      <td>0.5</td>\n      <td>0.0</td>\n      <td>1.0</td>\n      <td>1.0</td>\n      <td>0.70</td>\n    </tr>\n    <tr>\n      <th>The Woman King</th>\n      <td>1.0</td>\n      <td>0.0</td>\n      <td>0.5</td>\n      <td>0.0</td>\n      <td>1.0</td>\n      <td>0.50</td>\n    </tr>\n    <tr>\n      <th>Top Gun: Maverick</th>\n      <td>0.8</td>\n      <td>1.0</td>\n      <td>1.0</td>\n      <td>1.0</td>\n      <td>0.0</td>\n      <td>0.76</td>\n    </tr>\n    <tr>\n      <th>Lou</th>\n      <td>0.0</td>\n      <td>0.0</td>\n      <td>0.0</td>\n      <td>1.0</td>\n      <td>1.0</td>\n      <td>0.40</td>\n    </tr>\n    <tr>\n      <th>Black Panther</th>\n      <td>1.0</td>\n      <td>0.5</td>\n      <td>1.0</td>\n      <td>1.0</td>\n      <td>0.0</td>\n      <td>0.70</td>\n    </tr>\n  </tbody>\n</table>\n</div>"
          },
          "metadata": {}
        }
      ]
    },
    {
      "cell_type": "markdown",
      "source": "Average by user",
      "metadata": {}
    },
    {
      "cell_type": "code",
      "source": "ratings_norm.mean(axis=1)",
      "metadata": {
        "trusted": true
      },
      "execution_count": 11,
      "outputs": [
        {
          "execution_count": 11,
          "output_type": "execute_result",
          "data": {
            "text/plain": "Bird Box             0.70\nThe Woman King       0.50\nTop Gun: Maverick    0.76\nLou                  0.40\nBlack Panther        0.70\ndtype: float64"
          },
          "metadata": {}
        }
      ]
    },
    {
      "cell_type": "markdown",
      "source": "Average by movie",
      "metadata": {}
    },
    {
      "cell_type": "code",
      "source": "mov_norm = pd.Series(ratings_norm.mean())\nmov_norm",
      "metadata": {
        "trusted": true
      },
      "execution_count": 12,
      "outputs": [
        {
          "execution_count": 12,
          "output_type": "execute_result",
          "data": {
            "text/plain": "Athiou    0.760\nCoco      0.400\nFaty      0.500\nSaouma    0.800\nDedi      0.600\nmean      0.612\ndtype: float64"
          },
          "metadata": {}
        }
      ]
    },
    {
      "cell_type": "markdown",
      "source": "In conclusion, this data set has some advantages and disadvantages on using normalization. The normalized rating has advantage since a low or high rating by one single user won't have much of an effect. Perhaps normalizing would be useful if the ratings were done on a scale of 1-10 and most ratings were under 5, leaving some data far out of the 'normal' range.",
      "metadata": {}
    }
  ]
}